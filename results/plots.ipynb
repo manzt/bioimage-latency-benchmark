{
 "cells": [
  {
   "cell_type": "code",
   "execution_count": null,
   "id": "1aa8a929",
   "metadata": {},
   "outputs": [],
   "source": [
    "import pandas as pd\n",
    "import matplotlib.pyplot as plt\n",
    "\n",
    "from pathlib import Path\n",
    "from typing import Sequence, Union\n",
    "\n",
    "%matplotlib inline  \n",
    "%config InlineBackend.figure_format = 'retina'"
   ]
  },
  {
   "cell_type": "code",
   "execution_count": null,
   "id": "1ad16b93",
   "metadata": {},
   "outputs": [],
   "source": [
    "def fmt_name(name: pd.Series) -> pd.Series:\n",
    "    split = name.str.split('-').str\n",
    "    return \"(X=\" + split[1] + \", Y=\" + split[1] + \", Z=\" + split[3] + \", C=\" + split[5] + \", T=\" + split[7] + \")\""
   ]
  },
  {
   "cell_type": "code",
   "execution_count": null,
   "id": "f104cfd7",
   "metadata": {},
   "outputs": [],
   "source": [
    "def load(path: Union[Path, Sequence[Path]]):\n",
    "    seq = [path] if isinstance(path, Path) else path\n",
    "    df = pd.concat(map(pd.read_csv, seq))\n",
    "    df.name = fmt_name(df.name)\n",
    "    return df"
   ]
  },
  {
   "cell_type": "code",
   "execution_count": null,
   "id": "197bede6",
   "metadata": {
    "scrolled": true
   },
   "outputs": [],
   "source": [
    "import ptitprince as pt\n",
    "from matplotlib.colors import ListedColormap\n",
    "\n",
    "f = plt.figure(constrained_layout=True, figsize=(20, 9))\n",
    "gs = f.add_gridspec(2, 3)\n",
    "\n",
    "ax = f.add_subplot(gs[:,:2])\n",
    "ax1 = f.add_subplot(gs[0,2])\n",
    "ax2 = f.add_subplot(gs[1,2])\n",
    "\n",
    "cmap = plt.get_cmap('Pastel1')\n",
    "font = 16\n",
    "fontlarge = 22\n",
    "\n",
    "ax = pt.RainCloud(\n",
    "    x=\"name\",\n",
    "    y=\"seconds\",\n",
    "    hue=\"type\",\n",
    "    data=load(Path.cwd().glob('*.csv')),\n",
    "    palette=cmap.name,\n",
    "    width_viol=0.6,\n",
    "    ax=ax,\n",
    "    orient=\"h\",\n",
    "    alpha=0.65,\n",
    "    jitter=0.03,\n",
    "    move=0.2,\n",
    ")\n",
    "\n",
    "ax.set_xscale(\"log\")\n",
    "ax.set_xlabel(\"seconds per chunk\")\n",
    "ax.yaxis.set_visible(False)\n",
    "\n",
    "offset = 0.6\n",
    "ax.text(offset, -0.5, '(X=1920, Y=1920, Z=259, C=4, T=1)', ha='center', va='center', fontsize=fontlarge)\n",
    "ax.text(offset, 0.5, '(X=1920, Y=1920, Z=1, C=4, T=1)', ha='center', va='center', fontsize=fontlarge)\n",
    "\n",
    "ax.axes.get_yaxis().get_label().set_visible(False)\n",
    "handles, labels = ax.get_legend_handles_labels()\n",
    "ax.legend(handles[0:3], labels[0:3], loc=\"lower right\", fontsize=fontlarge)\n",
    "\n",
    "df = load(Path.cwd() / \"XY-1920-Z-259-C-4-T-1-XC-256.csv\")\n",
    "ax1.set_ylabel('Z index')\n",
    "ax1.set_xscale('log')\n",
    "ax1.scatter(\n",
    "    df.seconds,\n",
    "    df.z,\n",
    "    c=df.type.map({ \n",
    "      name: cmap.colors[i] \n",
    "      for i, name in \n",
    "      enumerate(df.type.unique())\n",
    "    }),\n",
    ")\n",
    "# ax1.legend(handles[0:3], labels[0:3], fontsize=font, loc='center')\n",
    "\n",
    "ax2.set_ylabel('Z index')\n",
    "ax2.set_xlabel('seconds per chunk')\n",
    "ax2.set_xscale('log')\n",
    "scatter = ax2.scatter(\n",
    "    df.seconds,\n",
    "    df.z,\n",
    "    c=df.c.astype('category'),\n",
    "    cmap=ListedColormap([\"#cccccc\", \"#969696\", \"#636363\", \"#252525\"])\n",
    ")\n",
    "\n",
    "for a in [ax, ax1, ax2]:\n",
    "    for item in (\n",
    "        [a.title, a.xaxis.label, a.yaxis.label]\n",
    "        + a.get_xticklabels()\n",
    "        + a.get_yticklabels()\n",
    "    ):\n",
    "        item.set_fontsize(font)\n",
    "\n",
    "legend1 = ax2.legend(\n",
    "    *scatter.legend_elements(),\n",
    "    title=\"C index\",\n",
    "    ncol=2,\n",
    "    loc='center',\n",
    "    fontsize=font,\n",
    "    title_fontsize=font\n",
    ")\n",
    "\n",
    "ax2.add_artist(legend1);"
   ]
  },
  {
   "cell_type": "code",
   "execution_count": null,
   "id": "9f6d4217",
   "metadata": {},
   "outputs": [],
   "source": [
    "f.savefig('supp_fig2.png', dpi=300)"
   ]
  },
  {
   "cell_type": "code",
   "execution_count": null,
   "id": "31f136ed",
   "metadata": {},
   "outputs": [],
   "source": []
  }
 ],
 "metadata": {
  "kernelspec": {
   "display_name": "Python 3",
   "language": "python",
   "name": "python3"
  },
  "language_info": {
   "codemirror_mode": {
    "name": "ipython",
    "version": 3
   },
   "file_extension": ".py",
   "mimetype": "text/x-python",
   "name": "python",
   "nbconvert_exporter": "python",
   "pygments_lexer": "ipython3",
   "version": "3.9.0"
  }
 },
 "nbformat": 4,
 "nbformat_minor": 5
}
